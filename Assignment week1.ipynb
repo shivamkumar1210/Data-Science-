{
 "cells": [
  {
   "cell_type": "code",
   "execution_count": 1,
   "id": "058a1ed1-fda0-45d1-be84-5e34bfa54452",
   "metadata": {},
   "outputs": [],
   "source": [
    "a = \"shivam\""
   ]
  },
  {
   "cell_type": "code",
   "execution_count": 2,
   "id": "00f83a11-134a-44d8-9481-ab1a67bd67b8",
   "metadata": {},
   "outputs": [
    {
     "data": {
      "text/plain": [
       "str"
      ]
     },
     "execution_count": 2,
     "metadata": {},
     "output_type": "execute_result"
    }
   ],
   "source": [
    "type(a)"
   ]
  },
  {
   "cell_type": "code",
   "execution_count": 3,
   "id": "c149836d-5853-40bd-9549-25038c46b3a6",
   "metadata": {},
   "outputs": [],
   "source": [
    "b = [1,2,3,4]"
   ]
  },
  {
   "cell_type": "code",
   "execution_count": 4,
   "id": "a824181b-84fc-4c59-84df-3a357dc79861",
   "metadata": {},
   "outputs": [
    {
     "data": {
      "text/plain": [
       "list"
      ]
     },
     "execution_count": 4,
     "metadata": {},
     "output_type": "execute_result"
    }
   ],
   "source": [
    "type(b)"
   ]
  },
  {
   "cell_type": "code",
   "execution_count": 5,
   "id": "3f61728f-4c4c-4546-9623-e87b46511aa9",
   "metadata": {},
   "outputs": [],
   "source": [
    "c = 23.54"
   ]
  },
  {
   "cell_type": "code",
   "execution_count": 6,
   "id": "c89b0e32-2356-4dbb-9e65-b59ae7893443",
   "metadata": {},
   "outputs": [
    {
     "data": {
      "text/plain": [
       "float"
      ]
     },
     "execution_count": 6,
     "metadata": {},
     "output_type": "execute_result"
    }
   ],
   "source": [
    "type(c)"
   ]
  },
  {
   "cell_type": "code",
   "execution_count": 7,
   "id": "d2c49206-0fbf-44a5-b8cf-d20e6e7047e4",
   "metadata": {},
   "outputs": [],
   "source": [
    "d= (10,20,30,40)"
   ]
  },
  {
   "cell_type": "code",
   "execution_count": 8,
   "id": "c7c02063-2fdd-4607-b78a-e71719d01dee",
   "metadata": {},
   "outputs": [
    {
     "data": {
      "text/plain": [
       "tuple"
      ]
     },
     "execution_count": 8,
     "metadata": {},
     "output_type": "execute_result"
    }
   ],
   "source": [
    "type(d)"
   ]
  },
  {
   "cell_type": "raw",
   "id": "5ea37fc4-2cf4-40eb-8072-a20f8ef4ee7d",
   "metadata": {},
   "source": [
    "2nd question "
   ]
  },
  {
   "cell_type": "code",
   "execution_count": 10,
   "id": "ecdac3e8-f4e6-4503-a88a-5e1e706f560f",
   "metadata": {},
   "outputs": [],
   "source": [
    "var1 = ''"
   ]
  },
  {
   "cell_type": "code",
   "execution_count": 11,
   "id": "9fdea9fa-40fa-4c64-8c1b-3cb8f6b2da7a",
   "metadata": {},
   "outputs": [
    {
     "data": {
      "text/plain": [
       "str"
      ]
     },
     "execution_count": 11,
     "metadata": {},
     "output_type": "execute_result"
    }
   ],
   "source": [
    "type(var1)"
   ]
  },
  {
   "cell_type": "code",
   "execution_count": 14,
   "id": "a5cb4285-b3a0-4629-89b3-994291f8d3a5",
   "metadata": {},
   "outputs": [],
   "source": [
    "var1 = ''\n",
    "var2 = '[ DS , ML , Python]'\n",
    "var3 = [ 'DS' , 'ML' , 'Python' ]\n",
    "var4 = 1."
   ]
  },
  {
   "cell_type": "code",
   "execution_count": 16,
   "id": "a3ec3887-86b3-46ca-85fb-e8722b93ccc0",
   "metadata": {},
   "outputs": [
    {
     "data": {
      "text/plain": [
       "str"
      ]
     },
     "execution_count": 16,
     "metadata": {},
     "output_type": "execute_result"
    }
   ],
   "source": [
    "type(var2)"
   ]
  },
  {
   "cell_type": "code",
   "execution_count": 17,
   "id": "d162ee85-3fc6-414f-80e6-2e2083239265",
   "metadata": {},
   "outputs": [
    {
     "data": {
      "text/plain": [
       "list"
      ]
     },
     "execution_count": 17,
     "metadata": {},
     "output_type": "execute_result"
    }
   ],
   "source": [
    "type(var3)"
   ]
  },
  {
   "cell_type": "code",
   "execution_count": 18,
   "id": "7bbcf465-0ff3-4988-bc4e-9fc16ac6edf3",
   "metadata": {},
   "outputs": [
    {
     "data": {
      "text/plain": [
       "float"
      ]
     },
     "execution_count": 18,
     "metadata": {},
     "output_type": "execute_result"
    }
   ],
   "source": [
    "type(var4)"
   ]
  },
  {
   "cell_type": "raw",
   "id": "6bfb65dc-562b-4a0a-a417-a89122696c0a",
   "metadata": {},
   "source": [
    "3rd question"
   ]
  },
  {
   "cell_type": "code",
   "execution_count": 24,
   "id": "25715fc1-3d46-47e8-9d28-74416b2e5117",
   "metadata": {},
   "outputs": [
    {
     "data": {
      "text/plain": [
       "0.5"
      ]
     },
     "execution_count": 24,
     "metadata": {},
     "output_type": "execute_result"
    }
   ],
   "source": [
    "2/4 #divison operator"
   ]
  },
  {
   "cell_type": "code",
   "execution_count": 25,
   "id": "ec42fa89-e372-489b-9d1a-e987e05d05e3",
   "metadata": {},
   "outputs": [
    {
     "data": {
      "text/plain": [
       "2"
      ]
     },
     "execution_count": 25,
     "metadata": {},
     "output_type": "execute_result"
    }
   ],
   "source": [
    "2%4 #modulus operator"
   ]
  },
  {
   "cell_type": "code",
   "execution_count": 26,
   "id": "241ab59c-837f-452b-a0dc-67f143f49e3f",
   "metadata": {},
   "outputs": [
    {
     "data": {
      "text/plain": [
       "1"
      ]
     },
     "execution_count": 26,
     "metadata": {},
     "output_type": "execute_result"
    }
   ],
   "source": [
    "5//4 #divison floar gives remainder"
   ]
  },
  {
   "cell_type": "code",
   "execution_count": 27,
   "id": "7b88cdc7-22f7-49e5-a689-13e6011513ad",
   "metadata": {},
   "outputs": [
    {
     "data": {
      "text/plain": [
       "243"
      ]
     },
     "execution_count": 27,
     "metadata": {},
     "output_type": "execute_result"
    }
   ],
   "source": [
    "3**5 #power operator"
   ]
  },
  {
   "cell_type": "raw",
   "id": "5144fcea-5376-438a-aac6-d56088922e9b",
   "metadata": {},
   "source": [
    "4th questiom"
   ]
  },
  {
   "cell_type": "code",
   "execution_count": 28,
   "id": "0c2aed6f-fa14-41ea-ac8d-b1c6ff36dc79",
   "metadata": {},
   "outputs": [
    {
     "name": "stdout",
     "output_type": "stream",
     "text": [
      "10 <class 'int'>\n",
      "Hello <class 'str'>\n",
      "3.14 <class 'float'>\n",
      "True <class 'bool'>\n",
      "[1, 2, 3] <class 'list'>\n",
      "{'name': 'John', 'age': 25} <class 'dict'>\n",
      "(4, 5, 6) <class 'tuple'>\n",
      "None <class 'NoneType'>\n",
      "World <class 'str'>\n",
      "False <class 'bool'>\n"
     ]
    }
   ],
   "source": [
    "my_list = [10, \"Hello\", 3.14, True, [1, 2, 3], {'name': 'John', 'age': 25}, (4, 5, 6), None, \"World\", False]\n",
    "\n",
    "for element in my_list:\n",
    "    print(element, type(element))"
   ]
  },
  {
   "cell_type": "code",
   "execution_count": 36,
   "id": "9657bbb5-78f7-46b2-bbfb-5a4cd7d26a20",
   "metadata": {},
   "outputs": [
    {
     "name": "stdin",
     "output_type": "stream",
     "text": [
      "Enter the number A:  10\n",
      "Enter the number B:  20\n"
     ]
    },
    {
     "name": "stdout",
     "output_type": "stream",
     "text": [
      "The number A is not divisible by B.\n"
     ]
    }
   ],
   "source": [
    "A = int(input(\"Enter the number A: \"))\n",
    "B = int(input(\"Enter the number B: \"))\n",
    "\n",
    "count = 0  # Variable to keep track of the number of divisions\n",
    "\n",
    "while A % B == 0:\n",
    "    A = A / B\n",
    "    count += 1\n",
    "\n",
    "if count > 0:\n",
    "    print(\"The number A is divisible by B {count} times.\")\n",
    "else:\n",
    "    print(\"The number A is not divisible by B.\")\n",
    "    "
   ]
  },
  {
   "cell_type": "raw",
   "id": "180cc40d-feca-4330-a798-5c6e92bc04aa",
   "metadata": {},
   "source": [
    "6th question"
   ]
  },
  {
   "cell_type": "code",
   "execution_count": 40,
   "id": "6edd7e81-da14-48b2-b3cc-55ef7f8ed79e",
   "metadata": {},
   "outputs": [
    {
     "name": "stdout",
     "output_type": "stream",
     "text": [
      "i is not divisible by 3\n",
      "i is not divisible by 3\n",
      "i is divisible by 3\n",
      "i is not divisible by 3\n",
      "i is not divisible by 3\n",
      "i is divisible by 3\n",
      "i is not divisible by 3\n",
      "i is not divisible by 3\n",
      "i is divisible by 3\n",
      "i is not divisible by 3\n",
      "i is not divisible by 3\n",
      "i is divisible by 3\n",
      "i is not divisible by 3\n",
      "i is not divisible by 3\n",
      "i is divisible by 3\n",
      "i is not divisible by 3\n",
      "i is not divisible by 3\n",
      "i is divisible by 3\n",
      "i is not divisible by 3\n",
      "i is not divisible by 3\n",
      "i is divisible by 3\n",
      "i is not divisible by 3\n",
      "i is not divisible by 3\n",
      "i is divisible by 3\n",
      "i is not divisible by 3\n"
     ]
    }
   ],
   "source": [
    "my_list = list(range(1, 26))  # Creating a list of integers from 1 to 25\n",
    "\n",
    "for i in my_list:\n",
    "    if i % 3 == 0:\n",
    "        print(\"i is divisible by 3\")\n",
    "    else:\n",
    "        print(\"i is not divisible by 3\")"
   ]
  },
  {
   "cell_type": "raw",
   "id": "c05bf3fd-69fc-4ce5-bf4f-a006b1a2cc5c",
   "metadata": {},
   "source": [
    "7th question"
   ]
  },
  {
   "cell_type": "raw",
   "id": "e6570594-da84-4584-9623-2671cb92c797",
   "metadata": {},
   "source": [
    "Immutable data types:\n",
    "Immutable data types cannot be modified after they are created. Any operation that appears to modify an immutable object actually creates a new object with the modified value."
   ]
  },
  {
   "cell_type": "code",
   "execution_count": 41,
   "id": "c72351ae-8952-4959-b945-e4d0a140fe7f",
   "metadata": {},
   "outputs": [],
   "source": [
    "s1 = \"shiv\""
   ]
  },
  {
   "cell_type": "code",
   "execution_count": 42,
   "id": "2ca2f8fe-5c5a-49f8-ba31-0afd88ac72e7",
   "metadata": {},
   "outputs": [
    {
     "ename": "NameError",
     "evalue": "name 'r' is not defined",
     "output_type": "error",
     "traceback": [
      "\u001b[0;31m---------------------------------------------------------------------------\u001b[0m",
      "\u001b[0;31mNameError\u001b[0m                                 Traceback (most recent call last)",
      "Cell \u001b[0;32mIn[42], line 1\u001b[0m\n\u001b[0;32m----> 1\u001b[0m s1[\u001b[38;5;241m2\u001b[39m]\u001b[38;5;241m=\u001b[39m\u001b[43mr\u001b[49m\n",
      "\u001b[0;31mNameError\u001b[0m: name 'r' is not defined"
     ]
    }
   ],
   "source": [
    "s1[2]=r"
   ]
  },
  {
   "cell_type": "code",
   "execution_count": null,
   "id": "09b47730-59f4-4136-a88c-cfd178aa17cf",
   "metadata": {},
   "outputs": [],
   "source": []
  }
 ],
 "metadata": {
  "kernelspec": {
   "display_name": "Python 3 (ipykernel)",
   "language": "python",
   "name": "python3"
  },
  "language_info": {
   "codemirror_mode": {
    "name": "ipython",
    "version": 3
   },
   "file_extension": ".py",
   "mimetype": "text/x-python",
   "name": "python",
   "nbconvert_exporter": "python",
   "pygments_lexer": "ipython3",
   "version": "3.10.8"
  }
 },
 "nbformat": 4,
 "nbformat_minor": 5
}
